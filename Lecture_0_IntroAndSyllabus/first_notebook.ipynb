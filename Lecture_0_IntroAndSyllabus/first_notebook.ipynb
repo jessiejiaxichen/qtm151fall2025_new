{
 "cells": [
  {
   "cell_type": "markdown",
   "id": "b7615f8f",
   "metadata": {},
   "source": [
    "<font size = \"10\"><span style=\"color: lightgrey\">This is my First Jupiter Notebook</span>"
   ]
  },
  {
   "cell_type": "code",
   "execution_count": 1,
   "id": "11d22c21",
   "metadata": {},
   "outputs": [
    {
     "name": "stdout",
     "output_type": "stream",
     "text": [
      "Hello my name is Jessie Chen\n"
     ]
    }
   ],
   "source": [
    "print(\"Hello my name is Jessie Chen\")"
   ]
  }
 ],
 "metadata": {
  "kernelspec": {
   "display_name": "base",
   "language": "python",
   "name": "python3"
  },
  "language_info": {
   "codemirror_mode": {
    "name": "ipython",
    "version": 3
   },
   "file_extension": ".py",
   "mimetype": "text/x-python",
   "name": "python",
   "nbconvert_exporter": "python",
   "pygments_lexer": "ipython3",
   "version": "3.11.4"
  }
 },
 "nbformat": 4,
 "nbformat_minor": 5
}
